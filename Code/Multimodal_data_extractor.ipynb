{
 "cells": [
  {
   "cell_type": "code",
   "execution_count": null,
   "id": "70bcc962",
   "metadata": {},
   "outputs": [],
   "source": [
    "import warnings\n",
    "warnings.filterwarnings(\"ignore\")\n",
    "\n",
    "import numpy as np\n",
    "import pandas as pd\n",
    "from pathlib import Path\n",
    "import pickle\n",
    "import matplotlib.pyplot as plt\n",
    "import matplotlib.lines as mlines\n",
    "from Preprocess import *\n",
    "import time\n",
    "\n"
   ]
  },
  {
   "cell_type": "code",
   "execution_count": null,
   "id": "a1e64f08",
   "metadata": {},
   "outputs": [],
   "source": [
    "## Load data\n",
    "\n",
    "processed_data              = pd.read_csv('feature_data.csv')  ## change path to point to data file\n",
    "processed_data['timestamp'] = pd.to_datetime(processed_data['timestamp'])\n",
    "label_index                 = [2,3]\n",
    "feature_index               = np.arange(4,319)\n"
   ]
  },
  {
   "cell_type": "code",
   "execution_count": null,
   "id": "8461c5a9-e191-499e-a58e-905b6468a24b",
   "metadata": {},
   "outputs": [],
   "source": [
    "##Loop for saving data for multiple graph sizes and sequence lengths\n",
    "data_folder     = Path(\"Graph_Folder\") ## folder containing graphs processed by GEDD\n",
    "sms_file_names  = [ \"A_sms_local_10.pkl\" ,\"A_sms_local_15.pkl\"] ## Add more filenames for corresponding graphs\n",
    "graph_size      = np.array([10,15,20])\n",
    "seq_arr         = [3,5]\n",
    "\n",
    "\n",
    "which_graph     = 'sms'\n",
    "train_date      =  processed_data.timestamp.min()  ## If want to impose time limit on training data\n",
    "valid_date      =  processed_data.timestamp.max()\n",
    "root            = Path(\".\")\n",
    "\n",
    "\n",
    "for gr in range(0,graph_size.shape[0]):\n",
    "    file_to_open       = data_folder/sms_file_names[gr]\n",
    "    sms_file           = open(file_to_open,'rb')\n",
    "    sms                = pickle.load(sms_file)\n",
    "    num_users          = sms.A_msg[0].shape[0]\n",
    "    norm_call, norm_sms = process_Graphs(sms,sms,scale=10)\n",
    "\n",
    "    if (which_graph =='call'):\n",
    "        graph = norm_call\n",
    "    else:\n",
    "        graph = norm_sms\n",
    "    \n",
    "    for seq in seq_arr:\n",
    "        file_name   = \"GraphSeq\"+str(graph_size[gr])+\"_\"+str(seq)+\".pkl\"\n",
    "        my_path     = root / \"extracted_data\" / file_name    ## folder for saving the data\n",
    "        y_dict      = {}\n",
    "        for lb in label_index:\n",
    "            X_seq_a,X_cor_a,X_feat_a,y_a_lb, usr_arr_a = prepare_data_for_NN(processed_data,graph,seq,train_date,valid_date,feature_index,lb,num_users)\n",
    "            y_dict[\"y_\".format(lb) ]                   = y_a_lb\n",
    "        \n",
    "        data = {\"X_seq_a\":X_seq_a, \"X_cor_a\":X_cor_a, \"X_feat_a\":X_feat_a,\"Y\":y_dict,\"usr_id\":usr_arr_a }\n",
    "        with my_path.open('wb') as fp:\n",
    "            pickle.dump(data, fp)\n",
    "    \n",
    "    \n",
    "    \n",
    "    \n",
    "\n"
   ]
  }
 ],
 "metadata": {
  "kernelspec": {
   "display_name": "mk-env",
   "language": "python",
   "name": "python3"
  },
  "language_info": {
   "codemirror_mode": {
    "name": "ipython",
    "version": 3
   },
   "file_extension": ".py",
   "mimetype": "text/x-python",
   "name": "python",
   "nbconvert_exporter": "python",
   "pygments_lexer": "ipython3",
   "version": "3.8.13"
  },
  "vscode": {
   "interpreter": {
    "hash": "8f80aaba666fc8a099108d9198e276af468c67d15dcbb14a438ec7ce588457f4"
   }
  }
 },
 "nbformat": 4,
 "nbformat_minor": 5
}
